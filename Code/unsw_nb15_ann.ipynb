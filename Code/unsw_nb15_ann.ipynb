{
 "cells": [
  {
   "cell_type": "code",
   "execution_count": 9,
   "id": "fleet-platform",
   "metadata": {},
   "outputs": [],
   "source": [
    "import pandas as pd\n",
    "from sklearn.preprocessing import LabelEncoder"
   ]
  },
  {
   "cell_type": "code",
   "execution_count": null,
   "id": "persistent-absorption",
   "metadata": {},
   "outputs": [],
   "source": []
  },
  {
   "cell_type": "code",
   "execution_count": 10,
   "id": "convertible-nightmare",
   "metadata": {
    "scrolled": false
   },
   "outputs": [],
   "source": [
    "df = pd.read_csv('unsw_egitim.csv')\n",
    "dft = pd.read_csv('unsw_test.csv')\n",
    "\n",
    "\n",
    "df.drop(\"service\", axis='columns')\n",
    "df.drop(\"proto\", axis='columns')\n",
    "df.drop(\"state\", axis='columns')\n",
    "df.drop(\"attack_cat\", axis='columns')\n",
    "\n",
    "dft.drop(\"service\", axis='columns')\n",
    "dft.drop(\"proto\", axis='columns')\n",
    "dft.drop(\"state\", axis='columns')\n",
    "dft.drop(\"attack_cat\", axis='columns')\n",
    "\n",
    "l2 = LabelEncoder()\n",
    "label1 = l2.fit_transform(df['service'])\n",
    "df[\"service\"] = label1\n",
    "label2 = l2.fit_transform(df['proto'])\n",
    "df[\"proto\"] = label2\n",
    "label3 = l2.fit_transform(df['state'])\n",
    "df[\"state\"] = label3\n",
    "label4 = l2.fit_transform(df['attack_cat'])\n",
    "df[\"attack_cat\"] = label4\n",
    "\n",
    "label5 = l2.fit_transform(dft['service'])\n",
    "dft[\"service\"] = label5\n",
    "label6 = l2.fit_transform(dft['proto'])\n",
    "dft[\"proto\"] = label6\n",
    "label7 = l2.fit_transform(dft['state'])\n",
    "dft[\"state\"] = label7\n",
    "label8 = l2.fit_transform(dft['attack_cat'])\n",
    "dft[\"attack_cat\"] = label8\n",
    "\n",
    "Egitim = df\n",
    "Test = dft\n",
    "\n",
    "Y_Egitim = Test[['dur', 'proto', 'service', 'state', 'spkts', 'dpkts', 'sbytes',\n",
    "       'dbytes', 'rate', 'sttl', 'dttl', 'sload', 'dload', 'sloss', 'dloss',\n",
    "       'sinpkt', 'dinpkt', 'sjit', 'djit', 'swin', 'stcpb', 'dtcpb', 'dwin',\n",
    "       'tcprtt', 'synack', 'ackdat', 'smean', 'dmean', 'trans_depth',\n",
    "       'response_body_len', 'ct_srv_src', 'ct_state_ttl', 'ct_dst_ltm',\n",
    "       'ct_src_dport_ltm', 'ct_dst_sport_ltm', 'ct_dst_src_ltm',\n",
    "       'is_ftp_login', 'ct_ftp_cmd', 'ct_flw_http_mthd', 'ct_src_ltm',\n",
    "       'ct_srv_dst', 'is_sm_ips_ports', 'attack_cat']]\n",
    "X_Egitim = Egitim[['dur', 'proto', 'service', 'state', 'spkts', 'dpkts', 'sbytes',\n",
    "       'dbytes', 'rate', 'sttl', 'dttl', 'sload', 'dload', 'sloss', 'dloss',\n",
    "       'sinpkt', 'dinpkt', 'sjit', 'djit', 'swin', 'stcpb', 'dtcpb', 'dwin',\n",
    "       'tcprtt', 'synack', 'ackdat', 'smean', 'dmean', 'trans_depth',\n",
    "       'response_body_len', 'ct_srv_src', 'ct_state_ttl', 'ct_dst_ltm',\n",
    "       'ct_src_dport_ltm', 'ct_dst_sport_ltm', 'ct_dst_src_ltm',\n",
    "       'is_ftp_login', 'ct_ftp_cmd', 'ct_flw_http_mthd', 'ct_src_ltm',\n",
    "       'ct_srv_dst', 'is_sm_ips_ports', 'attack_cat']]\n",
    "\n",
    "X_Label = Egitim[['label']].astype('float64')\n",
    "Y_Label = Test[['label']].astype('float64')\n",
    "\n",
    "X_Egitim = X_Egitim.apply(lambda x : (x-x.min(axis=0) ) / (x.max(axis=0) - x.min(axis=0)))\n",
    "Y_Egitim = Y_Egitim.apply(lambda x : (x-x.min(axis=0) ) / (x.max(axis=0) - x.min(axis=0)))\n",
    "\n"
   ]
  },
  {
   "cell_type": "code",
   "execution_count": 11,
   "id": "sitting-spare",
   "metadata": {},
   "outputs": [],
   "source": [
    "import keras\n",
    "import tensorflow as tf\n",
    "from keras.models import Sequential\n",
    "from keras.layers import Dense"
   ]
  },
  {
   "cell_type": "code",
   "execution_count": 12,
   "id": "patient-supply",
   "metadata": {},
   "outputs": [
    {
     "name": "stdout",
     "output_type": "stream",
     "text": [
      "Epoch 1/10\n",
      "5480/5480 [==============================] - 15s 3ms/step - loss: 0.1291 - accuracy: 0.9417\n",
      "Epoch 2/10\n",
      "5480/5480 [==============================] - 14s 3ms/step - loss: 0.0938 - accuracy: 0.9608\n",
      "Epoch 3/10\n",
      "5480/5480 [==============================] - 20s 4ms/step - loss: 0.0674 - accuracy: 0.9750 1s - loss:\n",
      "Epoch 4/10\n",
      "5480/5480 [==============================] - 18s 3ms/step - loss: 0.0278 - accuracy: 0.9908\n",
      "Epoch 5/10\n",
      "5480/5480 [==============================] - 11s 2ms/step - loss: 0.0067 - accuracy: 0.9986\n",
      "Epoch 6/10\n",
      "5480/5480 [==============================] - 13s 2ms/step - loss: 0.0033 - accuracy: 0.9993\n",
      "Epoch 7/10\n",
      "5480/5480 [==============================] - 13s 2ms/step - loss: 0.0019 - accuracy: 0.9995\n",
      "Epoch 8/10\n",
      "5480/5480 [==============================] - 14s 2ms/step - loss: 0.0015 - accuracy: 0.9997\n",
      "Epoch 9/10\n",
      "5480/5480 [==============================] - 14s 2ms/step - loss: 0.0016 - accuracy: 0.9996 0s - loss: 0.0016 \n",
      "Epoch 10/10\n",
      "5480/5480 [==============================] - 13s 2ms/step - loss: 8.6126e-04 - accuracy: 0.9998\n"
     ]
    },
    {
     "data": {
      "text/plain": [
       "<tensorflow.python.keras.callbacks.History at 0x2aa040b4700>"
      ]
     },
     "execution_count": 12,
     "metadata": {},
     "output_type": "execute_result"
    }
   ],
   "source": [
    "classifier = Sequential()\n",
    "\n",
    "classifier.add(Dense(22,kernel_initializer=\"normal\", activation = 'relu', input_dim=43))\n",
    "\n",
    "classifier.add(Dense(22,kernel_initializer=\"normal\", activation = 'relu'))\n",
    "\n",
    "classifier.add(Dense(1,kernel_initializer=\"normal\", activation = 'sigmoid'))\n",
    "\n",
    "classifier.compile(optimizer= 'adam', loss = 'binary_crossentropy', metrics = ['accuracy'])\n",
    "\n",
    "classifier.fit(X_Egitim, X_Label ,epochs = 10)\n",
    "\n"
   ]
  },
  {
   "cell_type": "code",
   "execution_count": 13,
   "id": "motivated-principle",
   "metadata": {},
   "outputs": [
    {
     "name": "stdout",
     "output_type": "stream",
     "text": [
      "2573/2573 [==============================] - 3s 1ms/step - loss: 0.2347 - accuracy: 0.9079\n"
     ]
    },
    {
     "data": {
      "text/plain": [
       "[0.2346707284450531, 0.9078729748725891]"
      ]
     },
     "execution_count": 13,
     "metadata": {},
     "output_type": "execute_result"
    }
   ],
   "source": [
    "classifier.evaluate(Y_Egitim,Y_Label)"
   ]
  }
 ],
 "metadata": {
  "kernelspec": {
   "display_name": "Python 3",
   "language": "python",
   "name": "python3"
  },
  "language_info": {
   "codemirror_mode": {
    "name": "ipython",
    "version": 3
   },
   "file_extension": ".py",
   "mimetype": "text/x-python",
   "name": "python",
   "nbconvert_exporter": "python",
   "pygments_lexer": "ipython3",
   "version": "3.8.5"
  }
 },
 "nbformat": 4,
 "nbformat_minor": 5
}
